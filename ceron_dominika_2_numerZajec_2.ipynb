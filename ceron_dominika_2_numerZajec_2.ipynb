{
  "nbformat": 4,
  "nbformat_minor": 0,
  "metadata": {
    "colab": {
      "provenance": [],
      "collapsed_sections": []
    },
    "kernelspec": {
      "name": "python3",
      "display_name": "Python 3"
    },
    "language_info": {
      "name": "python"
    }
  },
  "cells": [
    {
      "cell_type": "code",
      "execution_count": 9,
      "metadata": {
        "colab": {
          "base_uri": "https://localhost:8080/"
        },
        "id": "BGQDiyRDjCT6",
        "outputId": "e2e7e4dc-77e0-47b0-f93a-b07b577c9a38"
      },
      "outputs": [
        {
          "output_type": "stream",
          "name": "stdout",
          "text": [
            "ęcia z pro\n",
            "Uwielbiam zajęcia z programowania\n",
            "wlazęa oawi\n"
          ]
        }
      ],
      "source": [
        "#zadanie 1\n",
        "tekst = \"Uwielbiam zajęcia z programowania\"\n",
        "print(tekst[13:23])\n",
        "x= len(tekst)\n",
        "print(tekst[-33:])\n",
        "print(tekst[1::3])\n"
      ]
    },
    {
      "cell_type": "code",
      "source": [
        "#zadanie 2\n",
        "\n",
        "tekst2 = \"Czarny to mój ulubiony kolor, niestety, kolor czarny bardzo szybko spiera się z moich ubrań\"\n",
        "\n",
        "#a\n",
        "x= tekst2.istitle()\n",
        "print(x)\n",
        "\n",
        "#b\n",
        "print(y)\n",
        "y = tekst2.startswith(\"C\")\n",
        "\n",
        "#c\n",
        "tekst3 = tekst2.lower()\n",
        "tekst3 = tekst3.replace(\"czarny\", \"różowy\")\n",
        "tekst3 = tekst3.capitalize()\n",
        "print(tekst3)"
      ],
      "metadata": {
        "colab": {
          "base_uri": "https://localhost:8080/"
        },
        "id": "KIjNXN-GjH6n",
        "outputId": "c4b5072d-45ac-4570-83c0-9b1bdd46ee34"
      },
      "execution_count": 37,
      "outputs": [
        {
          "output_type": "stream",
          "name": "stdout",
          "text": [
            "False\n",
            "True\n",
            "Różowy to mój ulubiony kolor, niestety, kolor różowy bardzo szybko spiera się z moich ubrań\n"
          ]
        }
      ]
    }
  ]
}